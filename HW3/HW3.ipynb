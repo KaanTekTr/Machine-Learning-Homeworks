{
  "cells": [
    {
      "cell_type": "markdown",
      "metadata": {
        "id": "YmlJ7FFJGA3k"
      },
      "source": [
        "**<h1><center>CS 464</center></h1>**\n",
        "**<h1><center>Introduction to Machine Learning</center></h1>**\n",
        "**<h1><center>Spring 2023</center></h1>**\n",
        "**<h1><center>Homework 3</center></h1>**\n",
        "<h4><center>Due: June 08, 2023 23:59 (GMT+3)</center></h4>"
      ]
    },
    {
      "cell_type": "markdown",
      "metadata": {
        "id": "kUQigqxM4JlE"
      },
      "source": [
        "## **MNIST RGB Inpainting**"
      ]
    },
    {
      "cell_type": "markdown",
      "metadata": {
        "id": "4JLXD3sTR8Yv"
      },
      "source": [
        "### **Homework Description**"
      ]
    },
    {
      "cell_type": "markdown",
      "metadata": {
        "id": "EFNaqLRzD75v"
      },
      "source": [
        "In this assignment, you are asked to design and train two different neural network models for image the inpainting task. In short, inpainting is a process of filling in the missing parts of an image. You will be applying this task on the MNIST RGB dataset, which is created for this homework by processing a subset of the original [MNIST](http://yann.lecun.com/exdb/mnist/) images. It contains RGB digit images from 0 to 1 colored in black, red, blue, or green. You can see a subset of the dataset below. The download link of the dataset is provided in the following parts.\n",
        "\n",
        "![MNIST RGB Samples](https://drive.google.com/uc?export=view&id=1uy0VENXeb6If-i3uxgDVtnk4qDj7eq_3)\n",
        "\n",
        "**Using PyTorch is mandatory** for this assignment. You are requested to **submit only a single *.ipynb file** in your submissions (no report needed). If you want to provide further explanations about your work, you can add Markdown cells for this purpose. From [this link](https://www.markdownguide.org/), you can get familiar with the Markdown syntax if you need. Upload your homework with the following filename convention: **\\<BilkentID\\>\\_\\<Name\\>\\_\\<Surname\\>.ipynb**\n",
        "\n",
        "Note that this assignment needs a CUDA-enabled GPU to be able to train the models in a reasonable time. If you do not have one, it is suggested to use the [Colab](https://colab.research.google.com/) environment.\n",
        "\n",
        "**Contact:** [Ahmet Burak Yıldırım](mailto:a.yildirim@bilkent.edu.tr)"
      ]
    },
    {
      "cell_type": "markdown",
      "metadata": {
        "id": "rMvuukCeSkRE"
      },
      "source": [
        "### **Importing the Libraries**"
      ]
    },
    {
      "cell_type": "markdown",
      "metadata": {
        "id": "bcipuzDyJyMT"
      },
      "source": [
        "In the cell below,  some utilities that you can make use of in this assignment are imported. You can edit these imports considering your implementation as long as you use PyTorch."
      ]
    },
    {
      "cell_type": "code",
      "execution_count": 1,
      "metadata": {
        "id": "7v0OO4-6SmNV"
      },
      "outputs": [],
      "source": [
        "import torch\n",
        "from torch import nn, optim\n",
        "from torch.utils.data import DataLoader, Dataset\n",
        "import torchvision\n",
        "from torchvision import transforms\n",
        "from PIL import Image\n",
        "from tqdm import tqdm\n",
        "import matplotlib.pyplot as plt\n",
        "import seaborn as sns\n",
        "import numpy as np\n",
        "import random\n",
        "import os"
      ]
    },
    {
      "cell_type": "markdown",
      "metadata": {
        "id": "vLoc5OoAKDtr"
      },
      "source": [
        "### **Environment Check**"
      ]
    },
    {
      "cell_type": "markdown",
      "metadata": {
        "id": "KfGyOffcKG7u"
      },
      "source": [
        "In the cell below, you can test whether hardware acceleration with GPU is enabled in your machine or not. If it is enabled, the printed device should be 'cuda'. \n",
        "\n",
        "**Do not change the cell**."
      ]
    },
    {
      "cell_type": "code",
      "execution_count": 2,
      "metadata": {
        "colab": {
          "base_uri": "https://localhost:8080/"
        },
        "id": "KaTYscuOLbjc",
        "outputId": "470ed41e-7d9d-45ad-9b89-16569dd7d4f9"
      },
      "outputs": [
        {
          "name": "stdout",
          "output_type": "stream",
          "text": [
            "Current device: cpu\n"
          ]
        }
      ],
      "source": [
        "device = torch.device('cuda' if torch.cuda.is_available() else 'cpu')\n",
        "print('Current device:', device)\n",
        "\n",
        "if device.type == 'cuda':\n",
        "    print('GPU Name:', torch.cuda.get_device_name(0))\n",
        "    print('Total GPU Memory:', round(torch.cuda.get_device_properties(0).total_memory/1024**3,1), 'GB')"
      ]
    },
    {
      "cell_type": "markdown",
      "metadata": {
        "id": "BBK2IftRSvHf"
      },
      "source": [
        "### **Setting Library Seeds for Reproducibility**"
      ]
    },
    {
      "cell_type": "markdown",
      "metadata": {
        "id": "cOZICZTbMc2-"
      },
      "source": [
        "To make a fair evaluation, the seed values are set for random sampling methods in PyTorch, NumPy, and Python random library. \n",
        "\n",
        "**Do not change the cell**"
      ]
    },
    {
      "cell_type": "code",
      "execution_count": 3,
      "metadata": {
        "id": "3M5lcMwQStjy"
      },
      "outputs": [],
      "source": [
        "def seed_everything(seed):\n",
        "    random.seed(seed)\n",
        "    np.random.seed(seed)\n",
        "    torch.manual_seed(seed)\n",
        "    torch.cuda.manual_seed(seed)\n",
        "    torch.backends.cudnn.deterministic = True"
      ]
    },
    {
      "cell_type": "code",
      "execution_count": 4,
      "metadata": {
        "id": "DJ1GUeFfSzN_"
      },
      "outputs": [],
      "source": [
        "seed_everything(464)"
      ]
    },
    {
      "cell_type": "markdown",
      "metadata": {
        "id": "h60dtOt5R_aE"
      },
      "source": [
        "### **Preparing the Dataset**"
      ]
    },
    {
      "cell_type": "markdown",
      "metadata": {
        "id": "Dzcz2jwcNKfK"
      },
      "source": [
        "The MNIST RGB dataset is downloadable from [this link](https://drive.google.com/file/d/1xl5Ie_1c3dIg-Y0uXsgbCYEEmDfQxadZ/view?usp=share_link). If you are using Colab or a Linux machine, you can uncomment and run the below cell to download and extract the dataset automatically."
      ]
    },
    {
      "cell_type": "code",
      "execution_count": 5,
      "metadata": {
        "colab": {
          "base_uri": "https://localhost:8080/"
        },
        "id": "85HQtprVSD3p",
        "outputId": "20a9886f-bad4-4720-86c7-d1d03f4e7331"
      },
      "outputs": [
        {
          "data": {
            "text/plain": [
              "'\\nimport gdown # Library to download files from Google Drive\\n!gdown 1xl5Ie_1c3dIg-Y0uXsgbCYEEmDfQxadZ # Google Drive ID of the zip file to be downloaded\\n!unzip -oq mnist_dataset_rgb # Unzip the file downloaded. Options -o and -q overwrites the files if exists already and disables printing out the extracted files, respectively.\\n'"
            ]
          },
          "execution_count": 5,
          "metadata": {},
          "output_type": "execute_result"
        }
      ],
      "source": [
        "'''\n",
        "import gdown # Library to download files from Google Drive\n",
        "!gdown 1xl5Ie_1c3dIg-Y0uXsgbCYEEmDfQxadZ # Google Drive ID of the zip file to be downloaded\n",
        "!unzip -oq mnist_dataset_rgb # Unzip the file downloaded. Options -o and -q overwrites the files if exists already and disables printing out the extracted files, respectively.\n",
        "'''"
      ]
    },
    {
      "cell_type": "markdown",
      "metadata": {
        "id": "ZhEiiIYxTBi9"
      },
      "source": [
        "### **Implementing a Custom Dataset [20 Points]**"
      ]
    },
    {
      "cell_type": "markdown",
      "metadata": {
        "id": "zGpUjWbWOBpJ"
      },
      "source": [
        "In this part, you are requested to implement a custom PyTorch dataset class that reads MNIST RGB images from a dataset split folder. There are two split folders called training and test in the dataset. The model class should take the root directory of a split in the \\_\\_init\\_\\_ function and read the images accordingly. Before returning the requested images, you should apply the following steps:\n",
        "\n",
        "* Apply bicubic interpolation using PIL to resize the images from (28,28) to (32,32) resolution.\n",
        "* Convert images to Tensor object\n",
        "* Normalize tensor values to scale them in the range of (-1,1)\n",
        "\n",
        "Note that reading images in the \\_\\_getitem\\_\\_ function makes the training process slow for this dataset because reading such small-sized images as a batch is slower than the forward pass process of a simple neural network. Therefore, it is suggested to read and store the images in an array in the \\_\\_init\\_\\_ function and return them in the \\_\\_getitem\\_\\_ function when they are requested by the DataLoader object."
      ]
    },
    {
      "cell_type": "code",
      "execution_count": 6,
      "metadata": {
        "id": "ongUJiujS_UE"
      },
      "outputs": [],
      "source": [
        "class MnistDataset(Dataset):\n",
        "    def __init__(self, root_dir):\n",
        "        self.images = []\n",
        "        class_names = [\"0\", \"1\", \"2\", \"3\", \"4\", \"5\", \"6\", \"7\", \"8\", \"9\"]\n",
        "        self.trans = transforms.Compose([\n",
        "            transforms.ToTensor()])\n",
        "\n",
        "        for class_id, class_name in enumerate(class_names): \n",
        "            class_dir = os.path.join(root_dir, class_name)\n",
        "            image_files = os.listdir(class_dir)\n",
        "            for file in tqdm(image_files):\n",
        "                img = Image.open(class_dir+ '/' + file).resize((32,32), Image.BICUBIC)\n",
        "                image_tensor = self.trans(img) # after this, shape is : [3, 32, 32]\n",
        "                # Find the maximum and minimum values\n",
        "                max_val = torch.max(image_tensor)\n",
        "                min_val = torch.min(image_tensor)\n",
        "                # Rescale values to the range (0, 1)\n",
        "                new_image = (image_tensor - min_val) / (max_val - min_val)\n",
        "                # Apply linear transformation to scale range to (-1, 1)\n",
        "                new_image = (new_image * 2) - 1\n",
        "                self.images.append(new_image)\n",
        "\n",
        "\n",
        "    def __len__(self):\n",
        "        return len(self.images)\n",
        "\n",
        "    def __getitem__(self, data_id):\n",
        "        return self.images[data_id]"
      ]
    },
    {
      "cell_type": "markdown",
      "metadata": {
        "id": "sqaS0ePeWzd3"
      },
      "source": [
        "Create a dataset and a data loader object for training and test splits. Set batch sizes to 64 and 512 for training and test data loaders, respectively. Enable shuffling in the training data loader and disable it in the test data loader."
      ]
    },
    {
      "cell_type": "code",
      "execution_count": 7,
      "metadata": {
        "colab": {
          "base_uri": "https://localhost:8080/"
        },
        "id": "g-RUAYGdTuVn",
        "outputId": "7913a928-0bcd-4832-a62e-1278df206a6c"
      },
      "outputs": [
        {
          "name": "stderr",
          "output_type": "stream",
          "text": [
            "100%|██████████| 4991/4991 [00:00<00:00, 5022.15it/s]\n",
            "100%|██████████| 5640/5640 [00:01<00:00, 4930.97it/s]\n",
            "100%|██████████| 4946/4946 [00:00<00:00, 4957.33it/s]\n",
            "100%|██████████| 5105/5105 [00:01<00:00, 4846.88it/s]\n",
            "100%|██████████| 4901/4901 [00:01<00:00, 4446.41it/s]\n",
            "100%|██████████| 4538/4538 [00:00<00:00, 4754.95it/s]\n",
            "100%|██████████| 4927/4927 [00:01<00:00, 4818.95it/s]\n",
            "100%|██████████| 5167/5167 [00:01<00:00, 4822.15it/s]\n",
            "100%|██████████| 4836/4836 [00:00<00:00, 4838.71it/s]\n",
            "100%|██████████| 4949/4949 [00:01<00:00, 4816.28it/s]\n",
            "100%|██████████| 980/980 [00:00<00:00, 5114.79it/s]\n",
            "100%|██████████| 1135/1135 [00:00<00:00, 5201.11it/s]\n",
            "100%|██████████| 1032/1032 [00:00<00:00, 5356.64it/s]\n",
            "100%|██████████| 1010/1010 [00:00<00:00, 5413.08it/s]\n",
            "100%|██████████| 982/982 [00:00<00:00, 5417.54it/s]\n",
            "100%|██████████| 892/892 [00:00<00:00, 5574.78it/s]\n",
            "100%|██████████| 958/958 [00:00<00:00, 5604.86it/s]\n",
            "100%|██████████| 1028/1028 [00:00<00:00, 5454.88it/s]\n",
            "100%|██████████| 974/974 [00:00<00:00, 5410.87it/s]\n",
            "100%|██████████| 1009/1009 [00:00<00:00, 5372.85it/s]\n"
          ]
        }
      ],
      "source": [
        "train_dataset = MnistDataset(root_dir='./mnist_dataset_rgb/training')\n",
        "train_dataloader = DataLoader(train_dataset, batch_size=64, shuffle=True)\n",
        "\n",
        "test_dataset = MnistDataset(root_dir='./mnist_dataset_rgb/test')\n",
        "test_dataloader = DataLoader(train_dataset, batch_size=512, shuffle=False)"
      ]
    },
    {
      "cell_type": "markdown",
      "metadata": {
        "id": "XqYREQNbpQeR"
      },
      "source": [
        "**Do not change** the below code. If your implementation is correct, you should be seeing a grid of MNIST RGB images properly."
      ]
    },
    {
      "cell_type": "code",
      "execution_count": 8,
      "metadata": {
        "colab": {
          "base_uri": "https://localhost:8080/",
          "height": 138
        },
        "id": "ZnVU_VccT-Yi",
        "outputId": "d75c62f4-e33f-4a88-ceed-fb4ad157c645"
      },
      "outputs": [
        {
          "data": {
            "image/png": "[encoded data removed]",
            "text/plain": [
              "<Figure size 640x480 with 1 Axes>"
            ]
          },
          "metadata": {},
          "output_type": "display_data"
        }
      ],
      "source": [
        "## Uncomment the cell when the dataloader is ready\n",
        "\n",
        "images = next(iter(train_dataloader))\n",
        "images = (images + 1) / 2\n",
        "grid_img = torchvision.utils.make_grid(images[:20], nrow=10)\n",
        "plt.axis('off')\n",
        "plt.imshow(grid_img.permute(1, 2, 0))\n",
        "plt.show()"
      ]
    },
    {
      "cell_type": "markdown",
      "metadata": {
        "id": "Qx_XrpE44TlW"
      },
      "source": [
        "### **Constructing Autoencoder Networks [30 Points]**"
      ]
    },
    {
      "cell_type": "markdown",
      "metadata": {
        "id": "EC8HgZSPmUhS"
      },
      "source": [
        "Autoencoder networks learn how to compress and reconstruct input data. It consists of two subnetworks called the encoder and the decoder. The encoder network compresses the input data, and the decoder network regenerates the data from its compressed version. In this part of the homework, you are requested to implement two different autoencoder networks, which are fully connected and convolutional autoencoders."
      ]
    },
    {
      "cell_type": "markdown",
      "metadata": {
        "id": "7RAJ5jSVWQp2"
      },
      "source": [
        "#### **Fully Connected Autoencoder [15 Points]**"
      ]
    },
    {
      "cell_type": "markdown",
      "metadata": {
        "id": "RWwNWG7_erQL"
      },
      "source": [
        "Fully connected networks consist of multiple [linear layers](https://pytorch.org/docs/stable/generated/torch.nn.Linear.html). The figure of the architecture is provided below, where the number of nodes is kept small for simplification. \n",
        "\n",
        "![Fully Connected Autoencoder Architecture](https://drive.google.com/uc?export=view&id=1JeDQtjvWVoT5dZhVxesQp_XiqAnUvi1i)\n",
        "\n",
        "In this part, you are requested to implement the layers and the forward function of the model. You should flatten the input image before feeding it to the network and unflatten it when the final activations are obtained. The (input_size, output_size) pairs of the layers should be defined as follows:\n",
        "\n",
        "**Encoder:**\n",
        "- (3\\*32\\*32, 256)\n",
        "- (256, 64)\n",
        "- (64, 16)\n",
        "\n",
        "**Decoder:**\n",
        "- (16, 64)\n",
        "- (64, 256)\n",
        "- (256, 3\\*32\\*32)\n",
        "\n",
        "In each layer, [1D batch normalization](https://pytorch.org/docs/stable/generated/torch.nn.BatchNorm1d.html) should be applied and the resulting values should be passed through a LeakyReLU layer with slope 0.2, which is the activation function. Since the image pixel value range is set to [-1,1] in the dataset, the outputs should be bounded so. Therefore, you should be using a Tanh activation function in the last layer instead of the normalization and LeakyReLU layers."
      ]
    },
    {
      "cell_type": "code",
      "execution_count": 9,
      "metadata": {
        "id": "1s8WfhKnd0Lq"
      },
      "outputs": [],
      "source": [
        "class MnistAutoencoderFC(nn.Module):\n",
        "    def __init__(self):\n",
        "        super(MnistAutoencoderFC, self).__init__()\n",
        "\n",
        "        self.flatten = nn.Flatten()\n",
        "\n",
        "        self.encode_1 = nn.Sequential(\n",
        "            nn.Linear(in_features=3072, out_features=256),\n",
        "            nn.BatchNorm1d(256),\n",
        "            nn.LeakyReLU(0.2),\n",
        "        )\n",
        "        self.encode_2 = nn.Sequential(\n",
        "            nn.Linear(in_features=256, out_features=64),\n",
        "            nn.BatchNorm1d(64),\n",
        "            nn.LeakyReLU(0.2),\n",
        "        )\n",
        "        self.encode_3 = nn.Sequential(\n",
        "            nn.Linear(in_features=64, out_features=16),\n",
        "            nn.BatchNorm1d(16),\n",
        "            nn.LeakyReLU(0.2),\n",
        "        )\n",
        "\n",
        "        self.decode_1 = nn.Sequential(\n",
        "            nn.Linear(in_features=16, out_features=64),\n",
        "            nn.BatchNorm1d(64),\n",
        "            nn.LeakyReLU(0.2),\n",
        "        )\n",
        "        self.decode_2 = nn.Sequential(\n",
        "            nn.Linear(in_features=64, out_features=256),\n",
        "            nn.BatchNorm1d(256),\n",
        "            nn.LeakyReLU(0.2),\n",
        "        )\n",
        "        self.decode_3 = nn.Sequential(\n",
        "            nn.Linear(in_features=256, out_features=3072),\n",
        "            nn.Tanh()\n",
        "        )\n",
        "       \n",
        "\n",
        "    def forward(self, x):\n",
        "        x = self.flatten(x)\n",
        "        x = self.encode_1(x)\n",
        "        x = self.encode_2(x)\n",
        "        x = self.encode_3(x)\n",
        "        x = self.decode_1(x)\n",
        "        x = self.decode_2(x)\n",
        "        x = self.decode_3(x)\n",
        "        x = x.reshape(-1, 3, 32, 32)\n",
        "        return x"
      ]
    },
    {
      "cell_type": "markdown",
      "metadata": {
        "id": "aSBT7XjHe0h0"
      },
      "source": [
        "#### **Convolutional Autoencoder [15 Points]**"
      ]
    },
    {
      "cell_type": "markdown",
      "metadata": {
        "id": "lw4yXKnke3M_"
      },
      "source": [
        "In this part, you are requested to implement an autoencoder model using convolutional layers. The architecture of a convolutional autoencoder is shown in the below figure.\n",
        "\n",
        "![Convolutional Autoencoder Architecture](https://drive.google.com/uc?export=view&id=18Ztf-zhMFC_IXDTnvGCUeGgZx-7duu0o)\n",
        "\n",
        " The (in_channel, out_channel) pairs of the layers should be defined as follows:\n",
        "\n",
        "**Encoder:**\n",
        "- (3, 16)\n",
        "- (16, 32)\n",
        "- (32, 64)\n",
        "\n",
        "**Decoder:**\n",
        "- (64, 32)\n",
        "- (32, 16)\n",
        "- (16, 3)\n",
        "\n",
        "You are free to choose the kernel and padding sizes of the layers. In each layer, [2D batch normalization](https://pytorch.org/docs/stable/generated/torch.nn.BatchNorm2d.html) should be applied and the resulting values should be passed through a LeakyReLU layer with slope 0.2, which is the activation function. Since the image pixel value range is set to [-1,1] in the dataset, the outputs should be bounded so. Therefore, you should be using a Tanh activation function in the last layer instead of the normalization and LeakyReLU layers. \n",
        "\n",
        "In the encoder part of the network, use max pooling in each layer for decreasing the resolution. The stride size should be set to one in these layers. In the decoder network, use [transposed convolution](https://pytorch.org/docs/stable/generated/torch.nn.ConvTranspose2d.html) (deconvolution) layers with stride two for increasing the resolution back. "
      ]
    },
    {
      "cell_type": "code",
      "execution_count": 10,
      "metadata": {
        "id": "LHSbmwvcUMn6"
      },
      "outputs": [],
      "source": [
        "class MnistAutoencoderConv(nn.Module):\n",
        "    def __init__(self):\n",
        "        super(MnistAutoencoderConv, self).__init__()\n",
        "        \n",
        "        self.encode_1 = nn.Sequential(\n",
        "            nn.Conv2d(in_channels=3, out_channels=16, kernel_size=3, padding=1),\n",
        "            nn.BatchNorm2d(16),\n",
        "            nn.LeakyReLU(0.2),\n",
        "            nn.MaxPool2d(kernel_size=2, stride=2)\n",
        "        )\n",
        "        self.encode_2 = nn.Sequential(\n",
        "            nn.Conv2d(in_channels=16, out_channels=32, kernel_size=3, padding=1),\n",
        "            nn.BatchNorm2d(32),\n",
        "            nn.LeakyReLU(0.2),\n",
        "            nn.MaxPool2d(kernel_size=2, stride=2)\n",
        "        )       \n",
        "        self.encode_3 = nn.Sequential(\n",
        "            nn.Conv2d(in_channels=32, out_channels=64, kernel_size=3, padding=1),\n",
        "            nn.BatchNorm2d(64),\n",
        "            nn.LeakyReLU(0.2),\n",
        "            nn.MaxPool2d(kernel_size=2, stride=2)\n",
        "        )\n",
        "\n",
        "        self.decode_1 = nn.Sequential(\n",
        "            nn.ConvTranspose2d(in_channels=64, out_channels=32, kernel_size=3, padding=1, output_padding=1, stride=2),\n",
        "            nn.BatchNorm2d(32),\n",
        "            nn.LeakyReLU(0.2),\n",
        "        )\n",
        "        self.decode_2 = nn.Sequential(\n",
        "            nn.ConvTranspose2d(in_channels=32, out_channels=16, kernel_size=3, padding=1, output_padding=1, stride=2),\n",
        "            nn.BatchNorm2d(16),\n",
        "            nn.LeakyReLU(0.2),\n",
        "        )\n",
        "        self.decode_3 = nn.Sequential(\n",
        "            nn.ConvTranspose2d(in_channels=16, out_channels=3, kernel_size=3, padding=1, output_padding=1, stride=2),\n",
        "            nn.Tanh()\n",
        "        )\n",
        "\n",
        "    def forward(self, x):\n",
        "        x = self.encode_1(x)\n",
        "        x = self.encode_2(x)\n",
        "        x = self.encode_3(x)\n",
        "        x = self.decode_1(x)\n",
        "        x = self.decode_2(x)\n",
        "        x = self.decode_3(x)\n",
        "        return x"
      ]
    },
    {
      "cell_type": "markdown",
      "metadata": {
        "id": "9YwxmMCrWjtb"
      },
      "source": [
        "### **Implementing the Training Loop [15 Points]**"
      ]
    },
    {
      "cell_type": "markdown",
      "metadata": {
        "id": "6xMSf3sofmJz"
      },
      "source": [
        "Define your training loop in this function. In the following parts, this function will be called to train both the fully connected and the convolutional autoencoders. The input arguments are provided below. Apply the training progress and return a list of losses that are calculated on each epoch. You should sum the iteration losses up during an epoch and take the mean of them to calculate the running loss of that epoch.\n",
        "\n",
        "To be able to learn inpainting, you should mask the input images as follows:\n",
        "\n",
        "![MNIST Masking](https://drive.google.com/uc?export=view&id=1gIELbRSE188PQHv_uGktPX_2cvAtMbN-)\n",
        "\n",
        "Simply, you should set the input tensor columns starting from 16 to 32 as -1 (black pixel). For the loss function, you should use the original image as the ground truth image so that the network learns how to fill the masked area of the input image and output the restored image. Before assigning the black pixels, do not forget to clone the original image to use it later in the loss function."
      ]
    },
    {
      "cell_type": "code",
      "execution_count": 11,
      "metadata": {
        "id": "rGresYXuKEV0"
      },
      "outputs": [],
      "source": [
        "iter_losses = []\n",
        "epoch_losses = []\n",
        "outputs = []"
      ]
    },
    {
      "cell_type": "code",
      "execution_count": 12,
      "metadata": {
        "id": "cifEP9HEWQde"
      },
      "outputs": [],
      "source": [
        "def train_model(model, train_dataloader, optimizer, loss_func, num_epochs):\n",
        "    num_batches = len(train_dataloader)\n",
        "    for epoch in tqdm(range(num_epochs)):\n",
        "        total_iter_loss = 0.0\n",
        "        for data in tqdm(train_dataloader, desc=f\"Epoch: {epoch+1}\", total=num_batches, position=0, leave=True):\n",
        "            optimizer.zero_grad()\n",
        "            # set half of the images to black\n",
        "            train_images = data.clone()\n",
        "            train_images[:, :, :, 16:32] = -1.0\n",
        "            if device.type == 'cuda':\n",
        "                data = data.cuda()\n",
        "                train_images = train_images.cuda()\n",
        "            batch_output = model(train_images)\n",
        "            outputs.append(batch_output)\n",
        "            loss = loss_func(batch_output, data)\n",
        "            loss.backward()\n",
        "            optimizer.step()\n",
        "\n",
        "            iter_losses.append(loss.item())\n",
        "            total_iter_loss += loss.item()\n",
        "        epoch_loss = total_iter_loss / num_batches\n",
        "        epoch_losses.append(epoch_loss)\n",
        "        print(f\"\\nEpoch {epoch+1} Loss: {epoch_loss}\")\n",
        "\n",
        "    print(\"Training is finished!\")"
      ]
    },
    {
      "cell_type": "markdown",
      "metadata": {
        "id": "ms6LRikETyds"
      },
      "source": [
        "### **Implementing the Evaluation Function [15 Points]**"
      ]
    },
    {
      "cell_type": "markdown",
      "metadata": {
        "id": "3XTr6dpe-0NN"
      },
      "source": [
        "Implement an evaluation function that returns the mean MSE calculated over the test dataset samples."
      ]
    },
    {
      "cell_type": "code",
      "execution_count": 13,
      "metadata": {
        "id": "JW-RK7vDT3l9"
      },
      "outputs": [],
      "source": [
        "def evaluate_model(model, test_dataloader):\n",
        "    mse_total = 0\n",
        "    loss = nn.MSELoss()\n",
        "    model.eval()\n",
        "    with torch.no_grad():\n",
        "        for data in tqdm(test_dataloader):\n",
        "            test_images = data.clone()\n",
        "            test_images[:, :, :, 16:32] = -1.0\n",
        "            if device.type == 'cuda':\n",
        "                data = data.cuda()\n",
        "                test_images = test_images.cuda()\n",
        "            test_result = model(test_images)\n",
        "            mse = loss(test_result, data)\n",
        "            mse_total += mse.item()\n",
        "    \n",
        "    return mse_total / len(test_dataloader)"
      ]
    },
    {
      "cell_type": "markdown",
      "metadata": {
        "id": "UjkRLMF0ZCtk"
      },
      "source": [
        "### **Inpainting Visualization Function**"
      ]
    },
    {
      "cell_type": "markdown",
      "metadata": {
        "id": "hI4ZNkVq_onm"
      },
      "source": [
        "The below code will be used to visualize the outputs of the trained models later. \n",
        "\n",
        "**Do not change the cell**"
      ]
    },
    {
      "cell_type": "code",
      "execution_count": 14,
      "metadata": {
        "id": "VAuNmuIelqzI"
      },
      "outputs": [],
      "source": [
        "def visualize_inpainting(model, dataset):\n",
        "    seed_everything(464)\n",
        "    dataloader = DataLoader(dataset, batch_size=10, shuffle=True)\n",
        "    images = next(iter(dataloader)) # Taking one batch from the dataloader\n",
        "    images = images\n",
        "    model.eval()\n",
        "    with torch.no_grad():\n",
        "      masked_images = images.clone()\n",
        "      masked_images[:,:,:,16:] = -1\n",
        "      if device.type == 'cuda':\n",
        "        inpainted_images = model(masked_images.cuda()).cpu()\n",
        "      else:\n",
        "        inpainted_images = model(masked_images).cpu()\n",
        "    images = (images + 1) / 2\n",
        "    masked_images = (masked_images + 1) / 2\n",
        "    inpainted_images = (inpainted_images + 1) / 2\n",
        "    images_concat = torch.cat((images, masked_images, inpainted_images), dim=2)\n",
        "    grid_img = torchvision.utils.make_grid(images_concat, nrow=10)\n",
        "    plt.axis('off')\n",
        "    plt.imshow(grid_img.permute(1, 2, 0))\n",
        "    plt.show()"
      ]
    },
    {
      "cell_type": "markdown",
      "metadata": {
        "id": "C32DbWgOUjKZ"
      },
      "source": [
        "### **Training and Evaluating the FC Model [5 Points]**"
      ]
    },
    {
      "cell_type": "markdown",
      "metadata": {
        "id": "lYdoryMh_9HN"
      },
      "source": [
        "Define your loss function as MSE, set learning rate to 2e-4, create Adam optimizer, and set number of epochs to 50. Later, call the train_model function that you implemented. Visualize the returned losses on a plot (loss vs. epoch). Lastly, call evaluate_model function that you implemented and print the accuracy the model reached on the test dataset. Also, call the visualize_inpainting function to observe the final inpainting results on the test dataset.\n",
        "\n"
      ]
    },
    {
      "cell_type": "code",
      "execution_count": 15,
      "metadata": {
        "colab": {
          "base_uri": "https://localhost:8080/",
          "height": 1000
        },
        "id": "v50u3FQAWQbI",
        "outputId": "e84486be-4128-4129-9e42-b5ade61fb938"
      },
      "outputs": [
        {
          "name": "stderr",
          "output_type": "stream",
          "text": [
            "Epoch: 1: 100%|██████████| 782/782 [00:05<00:00, 145.90it/s]\n",
            "  2%|▏         | 1/50 [00:05<04:22,  5.36s/it]"
          ]
        },
        {
          "name": "stdout",
          "output_type": "stream",
          "text": [
            "\n",
            "Epoch 1 Loss: 0.14001298246100125\n"
          ]
        },
        {
          "name": "stderr",
          "output_type": "stream",
          "text": [
            "Epoch: 2: 100%|██████████| 782/782 [00:04<00:00, 157.11it/s]\n",
            "  4%|▍         | 2/50 [00:10<04:06,  5.14s/it]"
          ]
        },
        {
          "name": "stdout",
          "output_type": "stream",
          "text": [
            "\n",
            "Epoch 2 Loss: 0.07570980008586746\n"
          ]
        },
        {
          "name": "stderr",
          "output_type": "stream",
          "text": [
            "Epoch: 3: 100%|██████████| 782/782 [00:04<00:00, 157.54it/s]\n",
            "  6%|▌         | 3/50 [00:15<03:57,  5.06s/it]"
          ]
        },
        {
          "name": "stdout",
          "output_type": "stream",
          "text": [
            "\n",
            "Epoch 3 Loss: 0.06830200110859883\n"
          ]
        },
        {
          "name": "stderr",
          "output_type": "stream",
          "text": [
            "Epoch: 4: 100%|██████████| 782/782 [00:04<00:00, 160.80it/s]\n",
            "  8%|▊         | 4/50 [00:20<03:49,  4.98s/it]"
          ]
        },
        {
          "name": "stdout",
          "output_type": "stream",
          "text": [
            "\n",
            "Epoch 4 Loss: 0.0643444227202393\n"
          ]
        },
        {
          "name": "stderr",
          "output_type": "stream",
          "text": [
            "Epoch: 5: 100%|██████████| 782/782 [00:04<00:00, 164.01it/s]\n",
            " 10%|█         | 5/50 [00:24<03:40,  4.90s/it]"
          ]
        },
        {
          "name": "stdout",
          "output_type": "stream",
          "text": [
            "\n",
            "Epoch 5 Loss: 0.06174863712466739\n"
          ]
        },
        {
          "name": "stderr",
          "output_type": "stream",
          "text": [
            "Epoch: 6: 100%|██████████| 782/782 [00:04<00:00, 159.56it/s]\n",
            " 12%|█▏        | 6/50 [00:29<03:35,  4.90s/it]"
          ]
        },
        {
          "name": "stdout",
          "output_type": "stream",
          "text": [
            "\n",
            "Epoch 6 Loss: 0.05984728177890296\n"
          ]
        },
        {
          "name": "stderr",
          "output_type": "stream",
          "text": [
            "Epoch: 7: 100%|██████████| 782/782 [00:04<00:00, 161.55it/s]\n",
            " 14%|█▍        | 7/50 [00:34<03:29,  4.88s/it]"
          ]
        },
        {
          "name": "stdout",
          "output_type": "stream",
          "text": [
            "\n",
            "Epoch 7 Loss: 0.0582632612999138\n"
          ]
        },
        {
          "name": "stderr",
          "output_type": "stream",
          "text": [
            "Epoch: 8: 100%|██████████| 782/782 [00:05<00:00, 151.06it/s]\n",
            " 16%|█▌        | 8/50 [00:39<03:29,  4.98s/it]"
          ]
        },
        {
          "name": "stdout",
          "output_type": "stream",
          "text": [
            "\n",
            "Epoch 8 Loss: 0.05705018408234467\n"
          ]
        },
        {
          "name": "stderr",
          "output_type": "stream",
          "text": [
            "Epoch: 9: 100%|██████████| 782/782 [00:04<00:00, 160.10it/s]\n",
            " 18%|█▊        | 9/50 [00:44<03:22,  4.95s/it]"
          ]
        },
        {
          "name": "stdout",
          "output_type": "stream",
          "text": [
            "\n",
            "Epoch 9 Loss: 0.056106793544138486\n"
          ]
        },
        {
          "name": "stderr",
          "output_type": "stream",
          "text": [
            "Epoch: 10: 100%|██████████| 782/782 [00:04<00:00, 164.16it/s]\n",
            " 20%|██        | 10/50 [00:49<03:15,  4.89s/it]"
          ]
        },
        {
          "name": "stdout",
          "output_type": "stream",
          "text": [
            "\n",
            "Epoch 10 Loss: 0.055145623171916396\n"
          ]
        },
        {
          "name": "stderr",
          "output_type": "stream",
          "text": [
            "Epoch: 11: 100%|██████████| 782/782 [00:04<00:00, 164.05it/s]\n",
            " 22%|██▏       | 11/50 [00:54<03:09,  4.85s/it]"
          ]
        },
        {
          "name": "stdout",
          "output_type": "stream",
          "text": [
            "\n",
            "Epoch 11 Loss: 0.05424180902216746\n"
          ]
        },
        {
          "name": "stderr",
          "output_type": "stream",
          "text": [
            "Epoch: 12: 100%|██████████| 782/782 [00:04<00:00, 164.70it/s]\n",
            " 24%|██▍       | 12/50 [00:59<03:03,  4.82s/it]"
          ]
        },
        {
          "name": "stdout",
          "output_type": "stream",
          "text": [
            "\n",
            "Epoch 12 Loss: 0.053655132127311225\n"
          ]
        },
        {
          "name": "stderr",
          "output_type": "stream",
          "text": [
            "Epoch: 13: 100%|██████████| 782/782 [00:04<00:00, 163.65it/s]\n",
            " 26%|██▌       | 13/50 [01:03<02:57,  4.81s/it]"
          ]
        },
        {
          "name": "stdout",
          "output_type": "stream",
          "text": [
            "\n",
            "Epoch 13 Loss: 0.05298192721917806\n"
          ]
        },
        {
          "name": "stderr",
          "output_type": "stream",
          "text": [
            "Epoch: 14: 100%|██████████| 782/782 [00:05<00:00, 139.44it/s]\n",
            " 28%|██▊       | 14/50 [01:09<03:01,  5.05s/it]"
          ]
        },
        {
          "name": "stdout",
          "output_type": "stream",
          "text": [
            "\n",
            "Epoch 14 Loss: 0.05242459525537613\n"
          ]
        },
        {
          "name": "stderr",
          "output_type": "stream",
          "text": [
            "Epoch: 15: 100%|██████████| 782/782 [00:04<00:00, 157.30it/s]\n",
            " 30%|███       | 15/50 [01:14<02:55,  5.03s/it]"
          ]
        },
        {
          "name": "stdout",
          "output_type": "stream",
          "text": [
            "\n",
            "Epoch 15 Loss: 0.051878233809414726\n"
          ]
        },
        {
          "name": "stderr",
          "output_type": "stream",
          "text": [
            "Epoch: 16: 100%|██████████| 782/782 [00:04<00:00, 161.35it/s]\n",
            " 32%|███▏      | 16/50 [01:19<02:49,  4.97s/it]"
          ]
        },
        {
          "name": "stdout",
          "output_type": "stream",
          "text": [
            "\n",
            "Epoch 16 Loss: 0.05144680576765781\n"
          ]
        },
        {
          "name": "stderr",
          "output_type": "stream",
          "text": [
            "Epoch: 17: 100%|██████████| 782/782 [00:04<00:00, 160.26it/s]\n",
            " 34%|███▍      | 17/50 [01:24<02:43,  4.95s/it]"
          ]
        },
        {
          "name": "stdout",
          "output_type": "stream",
          "text": [
            "\n",
            "Epoch 17 Loss: 0.05091220373406892\n"
          ]
        },
        {
          "name": "stderr",
          "output_type": "stream",
          "text": [
            "Epoch: 18: 100%|██████████| 782/782 [00:04<00:00, 161.63it/s]\n",
            " 36%|███▌      | 18/50 [01:28<02:37,  4.91s/it]"
          ]
        },
        {
          "name": "stdout",
          "output_type": "stream",
          "text": [
            "\n",
            "Epoch 18 Loss: 0.050666423300114435\n"
          ]
        },
        {
          "name": "stderr",
          "output_type": "stream",
          "text": [
            "Epoch: 19: 100%|██████████| 782/782 [00:04<00:00, 160.48it/s]\n",
            " 38%|███▊      | 19/50 [01:33<02:31,  4.90s/it]"
          ]
        },
        {
          "name": "stdout",
          "output_type": "stream",
          "text": [
            "\n",
            "Epoch 19 Loss: 0.050223705847092605\n"
          ]
        },
        {
          "name": "stderr",
          "output_type": "stream",
          "text": [
            "Epoch: 20: 100%|██████████| 782/782 [00:04<00:00, 161.69it/s]\n",
            " 40%|████      | 20/50 [01:38<02:26,  4.88s/it]"
          ]
        },
        {
          "name": "stdout",
          "output_type": "stream",
          "text": [
            "\n",
            "Epoch 20 Loss: 0.04984586570612\n"
          ]
        },
        {
          "name": "stderr",
          "output_type": "stream",
          "text": [
            "Epoch: 21: 100%|██████████| 782/782 [00:04<00:00, 160.45it/s]\n",
            " 42%|████▏     | 21/50 [01:43<02:21,  4.88s/it]"
          ]
        },
        {
          "name": "stdout",
          "output_type": "stream",
          "text": [
            "\n",
            "Epoch 21 Loss: 0.04951464763992583\n"
          ]
        },
        {
          "name": "stderr",
          "output_type": "stream",
          "text": [
            "Epoch: 22: 100%|██████████| 782/782 [00:04<00:00, 159.44it/s]\n",
            " 44%|████▍     | 22/50 [01:48<02:16,  4.89s/it]"
          ]
        },
        {
          "name": "stdout",
          "output_type": "stream",
          "text": [
            "\n",
            "Epoch 22 Loss: 0.04928103894890879\n"
          ]
        },
        {
          "name": "stderr",
          "output_type": "stream",
          "text": [
            "Epoch: 23: 100%|██████████| 782/782 [00:04<00:00, 162.15it/s]\n",
            " 46%|████▌     | 23/50 [01:53<02:11,  4.87s/it]"
          ]
        },
        {
          "name": "stdout",
          "output_type": "stream",
          "text": [
            "\n",
            "Epoch 23 Loss: 0.04897734569504743\n"
          ]
        },
        {
          "name": "stderr",
          "output_type": "stream",
          "text": [
            "Epoch: 24: 100%|██████████| 782/782 [00:04<00:00, 159.93it/s]\n",
            " 48%|████▊     | 24/50 [01:58<02:06,  4.88s/it]"
          ]
        },
        {
          "name": "stdout",
          "output_type": "stream",
          "text": [
            "\n",
            "Epoch 24 Loss: 0.04866585870990363\n"
          ]
        },
        {
          "name": "stderr",
          "output_type": "stream",
          "text": [
            "Epoch: 25: 100%|██████████| 782/782 [00:04<00:00, 159.90it/s]\n",
            " 50%|█████     | 25/50 [02:03<02:02,  4.88s/it]"
          ]
        },
        {
          "name": "stdout",
          "output_type": "stream",
          "text": [
            "\n",
            "Epoch 25 Loss: 0.04835914708483402\n"
          ]
        },
        {
          "name": "stderr",
          "output_type": "stream",
          "text": [
            "Epoch: 26: 100%|██████████| 782/782 [00:04<00:00, 161.52it/s]\n",
            " 52%|█████▏    | 26/50 [02:07<01:56,  4.87s/it]"
          ]
        },
        {
          "name": "stdout",
          "output_type": "stream",
          "text": [
            "\n",
            "Epoch 26 Loss: 0.04823493050492328\n"
          ]
        },
        {
          "name": "stderr",
          "output_type": "stream",
          "text": [
            "Epoch: 27: 100%|██████████| 782/782 [00:04<00:00, 161.69it/s]\n",
            " 54%|█████▍    | 27/50 [02:12<01:51,  4.86s/it]"
          ]
        },
        {
          "name": "stdout",
          "output_type": "stream",
          "text": [
            "\n",
            "Epoch 27 Loss: 0.04795275764811374\n"
          ]
        },
        {
          "name": "stderr",
          "output_type": "stream",
          "text": [
            "Epoch: 28: 100%|██████████| 782/782 [00:04<00:00, 160.30it/s]\n",
            " 56%|█████▌    | 28/50 [02:17<01:47,  4.87s/it]"
          ]
        },
        {
          "name": "stdout",
          "output_type": "stream",
          "text": [
            "\n",
            "Epoch 28 Loss: 0.04778559694109518\n"
          ]
        },
        {
          "name": "stderr",
          "output_type": "stream",
          "text": [
            "Epoch: 29: 100%|██████████| 782/782 [00:04<00:00, 159.86it/s]\n",
            " 58%|█████▊    | 29/50 [02:22<01:42,  4.87s/it]"
          ]
        },
        {
          "name": "stdout",
          "output_type": "stream",
          "text": [
            "\n",
            "Epoch 29 Loss: 0.04757588875510961\n"
          ]
        },
        {
          "name": "stderr",
          "output_type": "stream",
          "text": [
            "Epoch: 30: 100%|██████████| 782/782 [00:04<00:00, 161.70it/s]\n",
            " 60%|██████    | 30/50 [02:27<01:37,  4.86s/it]"
          ]
        },
        {
          "name": "stdout",
          "output_type": "stream",
          "text": [
            "\n",
            "Epoch 30 Loss: 0.047351915737056674\n"
          ]
        },
        {
          "name": "stderr",
          "output_type": "stream",
          "text": [
            "Epoch: 31: 100%|██████████| 782/782 [00:06<00:00, 115.76it/s]\n",
            " 62%|██████▏   | 31/50 [02:34<01:43,  5.43s/it]"
          ]
        },
        {
          "name": "stdout",
          "output_type": "stream",
          "text": [
            "\n",
            "Epoch 31 Loss: 0.04719134808406043\n"
          ]
        },
        {
          "name": "stderr",
          "output_type": "stream",
          "text": [
            "Epoch: 32: 100%|██████████| 782/782 [00:04<00:00, 164.78it/s]\n",
            " 64%|██████▍   | 32/50 [02:38<01:34,  5.23s/it]"
          ]
        },
        {
          "name": "stdout",
          "output_type": "stream",
          "text": [
            "\n",
            "Epoch 32 Loss: 0.046976690711763205\n"
          ]
        },
        {
          "name": "stderr",
          "output_type": "stream",
          "text": [
            "Epoch: 33: 100%|██████████| 782/782 [00:04<00:00, 163.47it/s]\n",
            " 66%|██████▌   | 33/50 [02:43<01:26,  5.09s/it]"
          ]
        },
        {
          "name": "stdout",
          "output_type": "stream",
          "text": [
            "\n",
            "Epoch 33 Loss: 0.04678668309946347\n"
          ]
        },
        {
          "name": "stderr",
          "output_type": "stream",
          "text": [
            "Epoch: 34: 100%|██████████| 782/782 [00:06<00:00, 118.51it/s]\n",
            " 68%|██████▊   | 34/50 [02:50<01:28,  5.55s/it]"
          ]
        },
        {
          "name": "stdout",
          "output_type": "stream",
          "text": [
            "\n",
            "Epoch 34 Loss: 0.04659257030776699\n"
          ]
        },
        {
          "name": "stderr",
          "output_type": "stream",
          "text": [
            "Epoch: 35: 100%|██████████| 782/782 [00:04<00:00, 157.16it/s]\n",
            " 70%|███████   | 35/50 [02:55<01:20,  5.37s/it]"
          ]
        },
        {
          "name": "stdout",
          "output_type": "stream",
          "text": [
            "\n",
            "Epoch 35 Loss: 0.0464529703035379\n"
          ]
        },
        {
          "name": "stderr",
          "output_type": "stream",
          "text": [
            "Epoch: 36: 100%|██████████| 782/782 [00:04<00:00, 161.39it/s]\n",
            " 72%|███████▏  | 36/50 [03:00<01:13,  5.22s/it]"
          ]
        },
        {
          "name": "stdout",
          "output_type": "stream",
          "text": [
            "\n",
            "Epoch 36 Loss: 0.046332344198432726\n"
          ]
        },
        {
          "name": "stderr",
          "output_type": "stream",
          "text": [
            "Epoch: 37: 100%|██████████| 782/782 [00:04<00:00, 161.75it/s]\n",
            " 74%|███████▍  | 37/50 [03:04<01:06,  5.10s/it]"
          ]
        },
        {
          "name": "stdout",
          "output_type": "stream",
          "text": [
            "\n",
            "Epoch 37 Loss: 0.04615931609250091\n"
          ]
        },
        {
          "name": "stderr",
          "output_type": "stream",
          "text": [
            "Epoch: 38: 100%|██████████| 782/782 [00:04<00:00, 161.77it/s]\n",
            " 76%|███████▌  | 38/50 [03:09<01:00,  5.02s/it]"
          ]
        },
        {
          "name": "stdout",
          "output_type": "stream",
          "text": [
            "\n",
            "Epoch 38 Loss: 0.04600580927470456\n"
          ]
        },
        {
          "name": "stderr",
          "output_type": "stream",
          "text": [
            "Epoch: 39: 100%|██████████| 782/782 [00:04<00:00, 162.16it/s]\n",
            " 78%|███████▊  | 39/50 [03:14<00:54,  4.96s/it]"
          ]
        },
        {
          "name": "stdout",
          "output_type": "stream",
          "text": [
            "\n",
            "Epoch 39 Loss: 0.04584987529212861\n"
          ]
        },
        {
          "name": "stderr",
          "output_type": "stream",
          "text": [
            "Epoch: 40: 100%|██████████| 782/782 [00:04<00:00, 162.02it/s]\n",
            " 80%|████████  | 40/50 [03:19<00:49,  4.92s/it]"
          ]
        },
        {
          "name": "stdout",
          "output_type": "stream",
          "text": [
            "\n",
            "Epoch 40 Loss: 0.04563783668934384\n"
          ]
        },
        {
          "name": "stderr",
          "output_type": "stream",
          "text": [
            "Epoch: 41: 100%|██████████| 782/782 [00:04<00:00, 161.20it/s]\n",
            " 82%|████████▏ | 41/50 [03:24<00:44,  4.90s/it]"
          ]
        },
        {
          "name": "stdout",
          "output_type": "stream",
          "text": [
            "\n",
            "Epoch 41 Loss: 0.0456191187443407\n"
          ]
        },
        {
          "name": "stderr",
          "output_type": "stream",
          "text": [
            "Epoch: 42: 100%|██████████| 782/782 [00:04<00:00, 160.68it/s]\n",
            " 84%|████████▍ | 42/50 [03:29<00:39,  4.89s/it]"
          ]
        },
        {
          "name": "stdout",
          "output_type": "stream",
          "text": [
            "\n",
            "Epoch 42 Loss: 0.04550449990803171\n"
          ]
        },
        {
          "name": "stderr",
          "output_type": "stream",
          "text": [
            "Epoch: 43: 100%|██████████| 782/782 [00:04<00:00, 161.57it/s]\n",
            " 86%|████████▌ | 43/50 [03:33<00:34,  4.88s/it]"
          ]
        },
        {
          "name": "stdout",
          "output_type": "stream",
          "text": [
            "\n",
            "Epoch 43 Loss: 0.04537854564216588\n"
          ]
        },
        {
          "name": "stderr",
          "output_type": "stream",
          "text": [
            "Epoch: 44: 100%|██████████| 782/782 [00:04<00:00, 161.39it/s]\n",
            " 88%|████████▊ | 44/50 [03:38<00:29,  4.87s/it]"
          ]
        },
        {
          "name": "stdout",
          "output_type": "stream",
          "text": [
            "\n",
            "Epoch 44 Loss: 0.04524967860420952\n"
          ]
        },
        {
          "name": "stderr",
          "output_type": "stream",
          "text": [
            "Epoch: 45: 100%|██████████| 782/782 [00:05<00:00, 154.52it/s]\n",
            " 90%|█████████ | 45/50 [03:43<00:24,  4.93s/it]"
          ]
        },
        {
          "name": "stdout",
          "output_type": "stream",
          "text": [
            "\n",
            "Epoch 45 Loss: 0.04517005529264202\n"
          ]
        },
        {
          "name": "stderr",
          "output_type": "stream",
          "text": [
            "Epoch: 46: 100%|██████████| 782/782 [00:04<00:00, 158.90it/s]\n",
            " 92%|█████████▏| 46/50 [03:48<00:19,  4.92s/it]"
          ]
        },
        {
          "name": "stdout",
          "output_type": "stream",
          "text": [
            "\n",
            "Epoch 46 Loss: 0.04501692625834509\n"
          ]
        },
        {
          "name": "stderr",
          "output_type": "stream",
          "text": [
            "Epoch: 47: 100%|██████████| 782/782 [00:05<00:00, 156.34it/s]\n",
            " 94%|█████████▍| 47/50 [03:53<00:14,  4.95s/it]"
          ]
        },
        {
          "name": "stdout",
          "output_type": "stream",
          "text": [
            "\n",
            "Epoch 47 Loss: 0.04493538339805725\n"
          ]
        },
        {
          "name": "stderr",
          "output_type": "stream",
          "text": [
            "Epoch: 48: 100%|██████████| 782/782 [00:04<00:00, 158.28it/s]\n",
            " 96%|█████████▌| 48/50 [03:58<00:09,  4.95s/it]"
          ]
        },
        {
          "name": "stdout",
          "output_type": "stream",
          "text": [
            "\n",
            "Epoch 48 Loss: 0.04484602901846399\n"
          ]
        },
        {
          "name": "stderr",
          "output_type": "stream",
          "text": [
            "Epoch: 49: 100%|██████████| 782/782 [00:04<00:00, 161.18it/s]\n",
            " 98%|█████████▊| 49/50 [04:03<00:04,  4.92s/it]"
          ]
        },
        {
          "name": "stdout",
          "output_type": "stream",
          "text": [
            "\n",
            "Epoch 49 Loss: 0.044678450169046514\n"
          ]
        },
        {
          "name": "stderr",
          "output_type": "stream",
          "text": [
            "Epoch: 50: 100%|██████████| 782/782 [00:04<00:00, 162.81it/s]\n",
            "100%|██████████| 50/50 [04:08<00:00,  4.97s/it]"
          ]
        },
        {
          "name": "stdout",
          "output_type": "stream",
          "text": [
            "\n",
            "Epoch 50 Loss: 0.04466932245037135\n",
            "Training is finished!\n"
          ]
        },
        {
          "name": "stderr",
          "output_type": "stream",
          "text": [
            "\n"
          ]
        }
      ],
      "source": [
        "seed_everything(464)\n",
        "model_fc = MnistAutoencoderFC() ## Uncomment when the model is implemented\n",
        "if device.type == 'cuda':\n",
        "    model_fc.cuda()\n",
        "loss_func = nn.MSELoss()\n",
        "optimizer = optim.Adam(model_fc.parameters(), lr=2e-4)\n",
        "train_model(model_fc, train_dataloader, optimizer, loss_func, 50)"
      ]
    },
    {
      "cell_type": "code",
      "execution_count": 16,
      "metadata": {
        "id": "yfBeOCUDSGuS"
      },
      "outputs": [
        {
          "data": {
            "image/png": "[encoded data removed]",
            "text/plain": [
              "<Figure size 640x480 with 1 Axes>"
            ]
          },
          "metadata": {},
          "output_type": "display_data"
        }
      ],
      "source": [
        "plt.plot(range(len(iter_losses)), iter_losses, color=\"tab:red\", linewidth=3)\n",
        "plt.xlabel(\"Iteration\")\n",
        "plt.ylabel(\"Loss\")\n",
        "plt.title(\"Training Loss per Iteration\")\n",
        "plt.show()"
      ]
    },
    {
      "cell_type": "code",
      "execution_count": 17,
      "metadata": {
        "id": "IjTk6I8KSIYP"
      },
      "outputs": [
        {
          "data": {
            "image/png": "[encoded data removed]",
            "text/plain": [
              "<Figure size 640x480 with 1 Axes>"
            ]
          },
          "metadata": {},
          "output_type": "display_data"
        }
      ],
      "source": [
        "plt.plot(range(len(epoch_losses)), epoch_losses, color=\"tab:red\", linewidth=3)\n",
        "plt.xlabel(\"Epoch\")\n",
        "plt.ylabel(\"Loss\")\n",
        "plt.title(\"Training Loss per Epoch\")\n",
        "plt.show()"
      ]
    },
    {
      "cell_type": "code",
      "execution_count": 18,
      "metadata": {
        "id": "psU77sTrtB67"
      },
      "outputs": [
        {
          "name": "stderr",
          "output_type": "stream",
          "text": [
            "100%|██████████| 98/98 [00:00<00:00, 161.37it/s]\n"
          ]
        },
        {
          "data": {
            "text/plain": [
              "0.04042871593858818"
            ]
          },
          "execution_count": 18,
          "metadata": {},
          "output_type": "execute_result"
        }
      ],
      "source": [
        "evaluate_model(model_fc, test_dataloader)"
      ]
    },
    {
      "cell_type": "code",
      "execution_count": 19,
      "metadata": {
        "id": "vWbXxz6IZPBE"
      },
      "outputs": [
        {
          "data": {
            "image/png": "[encoded data removed]",
            "text/plain": [
              "<Figure size 640x480 with 1 Axes>"
            ]
          },
          "metadata": {},
          "output_type": "display_data"
        }
      ],
      "source": [
        "visualize_inpainting(model_fc, test_dataset) ## Uncomment when the model is trained"
      ]
    },
    {
      "cell_type": "code",
      "execution_count": 20,
      "metadata": {
        "id": "T4cqpJbrKKwW"
      },
      "outputs": [],
      "source": [
        "iter_losses.clear()\n",
        "epoch_losses.clear()\n",
        "outputs.clear()"
      ]
    },
    {
      "cell_type": "markdown",
      "metadata": {
        "id": "0JOGHIOakmL-"
      },
      "source": [
        "### **Training and Evaluating the Convolutional Model [5 Points]**"
      ]
    },
    {
      "cell_type": "markdown",
      "metadata": {
        "id": "tvkBO1iyA7AG"
      },
      "source": [
        "Apply the same steps given in the FC Autoencoder part."
      ]
    },
    {
      "cell_type": "code",
      "execution_count": 21,
      "metadata": {
        "id": "8JhkdYbwiw0s"
      },
      "outputs": [
        {
          "name": "stderr",
          "output_type": "stream",
          "text": [
            "Epoch: 1: 100%|██████████| 782/782 [00:36<00:00, 21.35it/s]\n",
            "  2%|▏         | 1/50 [00:36<29:54, 36.62s/it]"
          ]
        },
        {
          "name": "stdout",
          "output_type": "stream",
          "text": [
            "\n",
            "Epoch 1 Loss: 0.30102179581513794\n"
          ]
        },
        {
          "name": "stderr",
          "output_type": "stream",
          "text": [
            "Epoch: 2: 100%|██████████| 782/782 [00:35<00:00, 21.99it/s]\n",
            "  4%|▍         | 2/50 [01:12<28:47, 36.00s/it]"
          ]
        },
        {
          "name": "stdout",
          "output_type": "stream",
          "text": [
            "\n",
            "Epoch 2 Loss: 0.08625917082361857\n"
          ]
        },
        {
          "name": "stderr",
          "output_type": "stream",
          "text": [
            "Epoch: 3: 100%|██████████| 782/782 [00:35<00:00, 22.01it/s]\n",
            "  6%|▌         | 3/50 [01:47<28:02, 35.79s/it]"
          ]
        },
        {
          "name": "stdout",
          "output_type": "stream",
          "text": [
            "\n",
            "Epoch 3 Loss: 0.06977069998145713\n"
          ]
        },
        {
          "name": "stderr",
          "output_type": "stream",
          "text": [
            "Epoch: 4: 100%|██████████| 782/782 [00:36<00:00, 21.46it/s]\n",
            "  8%|▊         | 4/50 [02:24<27:38, 36.05s/it]"
          ]
        },
        {
          "name": "stdout",
          "output_type": "stream",
          "text": [
            "\n",
            "Epoch 4 Loss: 0.06435015296463466\n"
          ]
        },
        {
          "name": "stderr",
          "output_type": "stream",
          "text": [
            "Epoch: 5: 100%|██████████| 782/782 [00:37<00:00, 20.90it/s]\n",
            " 10%|█         | 5/50 [03:01<27:24, 36.54s/it]"
          ]
        },
        {
          "name": "stdout",
          "output_type": "stream",
          "text": [
            "\n",
            "Epoch 5 Loss: 0.06137289235468411\n"
          ]
        },
        {
          "name": "stderr",
          "output_type": "stream",
          "text": [
            "Epoch: 6: 100%|██████████| 782/782 [00:36<00:00, 21.71it/s]\n",
            " 12%|█▏        | 6/50 [03:37<26:39, 36.36s/it]"
          ]
        },
        {
          "name": "stdout",
          "output_type": "stream",
          "text": [
            "\n",
            "Epoch 6 Loss: 0.05926748313238401\n"
          ]
        },
        {
          "name": "stderr",
          "output_type": "stream",
          "text": [
            "Epoch: 7: 100%|██████████| 782/782 [00:36<00:00, 21.14it/s]\n",
            " 14%|█▍        | 7/50 [04:14<26:12, 36.57s/it]"
          ]
        },
        {
          "name": "stdout",
          "output_type": "stream",
          "text": [
            "\n",
            "Epoch 7 Loss: 0.05775165222013545\n"
          ]
        },
        {
          "name": "stderr",
          "output_type": "stream",
          "text": [
            "Epoch: 8: 100%|██████████| 782/782 [00:36<00:00, 21.66it/s]\n",
            " 16%|█▌        | 8/50 [04:50<25:29, 36.42s/it]"
          ]
        },
        {
          "name": "stdout",
          "output_type": "stream",
          "text": [
            "\n",
            "Epoch 8 Loss: 0.056481024831571545\n"
          ]
        },
        {
          "name": "stderr",
          "output_type": "stream",
          "text": [
            "Epoch: 9: 100%|██████████| 782/782 [00:35<00:00, 22.15it/s]\n",
            " 18%|█▊        | 9/50 [05:26<24:39, 36.07s/it]"
          ]
        },
        {
          "name": "stdout",
          "output_type": "stream",
          "text": [
            "\n",
            "Epoch 9 Loss: 0.05547020238969485\n"
          ]
        },
        {
          "name": "stderr",
          "output_type": "stream",
          "text": [
            "Epoch: 10: 100%|██████████| 782/782 [00:35<00:00, 21.90it/s]\n",
            " 20%|██        | 10/50 [06:01<23:58, 35.96s/it]"
          ]
        },
        {
          "name": "stdout",
          "output_type": "stream",
          "text": [
            "\n",
            "Epoch 10 Loss: 0.054671576070358684\n"
          ]
        },
        {
          "name": "stderr",
          "output_type": "stream",
          "text": [
            "Epoch: 11: 100%|██████████| 782/782 [00:36<00:00, 21.37it/s]\n",
            " 22%|██▏       | 11/50 [06:38<23:29, 36.15s/it]"
          ]
        },
        {
          "name": "stdout",
          "output_type": "stream",
          "text": [
            "\n",
            "Epoch 11 Loss: 0.053901476861761353\n"
          ]
        },
        {
          "name": "stderr",
          "output_type": "stream",
          "text": [
            "Epoch: 12: 100%|██████████| 782/782 [00:35<00:00, 21.83it/s]\n",
            " 24%|██▍       | 12/50 [07:14<22:50, 36.05s/it]"
          ]
        },
        {
          "name": "stdout",
          "output_type": "stream",
          "text": [
            "\n",
            "Epoch 12 Loss: 0.053245079796523084\n"
          ]
        },
        {
          "name": "stderr",
          "output_type": "stream",
          "text": [
            "Epoch: 13: 100%|██████████| 782/782 [00:35<00:00, 22.10it/s]\n",
            " 26%|██▌       | 13/50 [07:49<22:06, 35.85s/it]"
          ]
        },
        {
          "name": "stdout",
          "output_type": "stream",
          "text": [
            "\n",
            "Epoch 13 Loss: 0.052639679706957945\n"
          ]
        },
        {
          "name": "stderr",
          "output_type": "stream",
          "text": [
            "Epoch: 14: 100%|██████████| 782/782 [00:35<00:00, 22.02it/s]\n",
            " 28%|██▊       | 14/50 [08:25<21:26, 35.75s/it]"
          ]
        },
        {
          "name": "stdout",
          "output_type": "stream",
          "text": [
            "\n",
            "Epoch 14 Loss: 0.0521664698905957\n"
          ]
        },
        {
          "name": "stderr",
          "output_type": "stream",
          "text": [
            "Epoch: 15: 100%|██████████| 782/782 [00:35<00:00, 21.88it/s]\n",
            " 30%|███       | 15/50 [09:00<20:51, 35.75s/it]"
          ]
        },
        {
          "name": "stdout",
          "output_type": "stream",
          "text": [
            "\n",
            "Epoch 15 Loss: 0.05167933088986922\n"
          ]
        },
        {
          "name": "stderr",
          "output_type": "stream",
          "text": [
            "Epoch: 16: 100%|██████████| 782/782 [00:35<00:00, 22.04it/s]\n",
            " 32%|███▏      | 16/50 [09:36<20:12, 35.67s/it]"
          ]
        },
        {
          "name": "stdout",
          "output_type": "stream",
          "text": [
            "\n",
            "Epoch 16 Loss: 0.05127680079673257\n"
          ]
        },
        {
          "name": "stderr",
          "output_type": "stream",
          "text": [
            "Epoch: 17: 100%|██████████| 782/782 [00:35<00:00, 21.77it/s]\n",
            " 34%|███▍      | 17/50 [10:12<19:39, 35.74s/it]"
          ]
        },
        {
          "name": "stdout",
          "output_type": "stream",
          "text": [
            "\n",
            "Epoch 17 Loss: 0.050870258237242394\n"
          ]
        },
        {
          "name": "stderr",
          "output_type": "stream",
          "text": [
            "Epoch: 18: 100%|██████████| 782/782 [00:35<00:00, 21.85it/s]\n",
            " 36%|███▌      | 18/50 [10:47<19:04, 35.76s/it]"
          ]
        },
        {
          "name": "stdout",
          "output_type": "stream",
          "text": [
            "\n",
            "Epoch 18 Loss: 0.05055409514099893\n"
          ]
        },
        {
          "name": "stderr",
          "output_type": "stream",
          "text": [
            "Epoch: 19: 100%|██████████| 782/782 [00:35<00:00, 21.98it/s]\n",
            " 38%|███▊      | 19/50 [11:23<18:26, 35.71s/it]"
          ]
        },
        {
          "name": "stdout",
          "output_type": "stream",
          "text": [
            "\n",
            "Epoch 19 Loss: 0.050267650838703146\n"
          ]
        },
        {
          "name": "stderr",
          "output_type": "stream",
          "text": [
            "Epoch: 20: 100%|██████████| 782/782 [00:36<00:00, 21.20it/s]\n",
            " 40%|████      | 20/50 [12:00<18:01, 36.06s/it]"
          ]
        },
        {
          "name": "stdout",
          "output_type": "stream",
          "text": [
            "\n",
            "Epoch 20 Loss: 0.05000870269925698\n"
          ]
        },
        {
          "name": "stderr",
          "output_type": "stream",
          "text": [
            "Epoch: 21: 100%|██████████| 782/782 [00:37<00:00, 20.69it/s]\n",
            " 42%|████▏     | 21/50 [12:38<17:40, 36.58s/it]"
          ]
        },
        {
          "name": "stdout",
          "output_type": "stream",
          "text": [
            "\n",
            "Epoch 21 Loss: 0.049732396036119716\n"
          ]
        },
        {
          "name": "stderr",
          "output_type": "stream",
          "text": [
            "Epoch: 22: 100%|██████████| 782/782 [00:37<00:00, 20.75it/s]\n",
            " 44%|████▍     | 22/50 [13:15<17:13, 36.91s/it]"
          ]
        },
        {
          "name": "stdout",
          "output_type": "stream",
          "text": [
            "\n",
            "Epoch 22 Loss: 0.04942520446313159\n"
          ]
        },
        {
          "name": "stderr",
          "output_type": "stream",
          "text": [
            "Epoch: 23: 100%|██████████| 782/782 [00:38<00:00, 20.54it/s]\n",
            " 46%|████▌     | 23/50 [13:53<16:46, 37.26s/it]"
          ]
        },
        {
          "name": "stdout",
          "output_type": "stream",
          "text": [
            "\n",
            "Epoch 23 Loss: 0.049243103855711116\n"
          ]
        },
        {
          "name": "stderr",
          "output_type": "stream",
          "text": [
            "Epoch: 24: 100%|██████████| 782/782 [00:37<00:00, 21.10it/s]\n",
            " 48%|████▊     | 24/50 [14:31<16:07, 37.20s/it]"
          ]
        },
        {
          "name": "stdout",
          "output_type": "stream",
          "text": [
            "\n",
            "Epoch 24 Loss: 0.04907149872016114\n"
          ]
        },
        {
          "name": "stderr",
          "output_type": "stream",
          "text": [
            "Epoch: 25: 100%|██████████| 782/782 [00:36<00:00, 21.49it/s]\n",
            " 50%|█████     | 25/50 [15:07<15:23, 36.96s/it]"
          ]
        },
        {
          "name": "stdout",
          "output_type": "stream",
          "text": [
            "\n",
            "Epoch 25 Loss: 0.04883163754859239\n"
          ]
        },
        {
          "name": "stderr",
          "output_type": "stream",
          "text": [
            "Epoch: 26: 100%|██████████| 782/782 [00:36<00:00, 21.48it/s]\n",
            " 52%|█████▏    | 26/50 [15:43<14:42, 36.79s/it]"
          ]
        },
        {
          "name": "stdout",
          "output_type": "stream",
          "text": [
            "\n",
            "Epoch 26 Loss: 0.048681585975658255\n"
          ]
        },
        {
          "name": "stderr",
          "output_type": "stream",
          "text": [
            "Epoch: 27: 100%|██████████| 782/782 [00:37<00:00, 21.00it/s]\n",
            " 54%|█████▍    | 27/50 [16:21<14:09, 36.93s/it]"
          ]
        },
        {
          "name": "stdout",
          "output_type": "stream",
          "text": [
            "\n",
            "Epoch 27 Loss: 0.048471924755960474\n"
          ]
        },
        {
          "name": "stderr",
          "output_type": "stream",
          "text": [
            "Epoch: 28: 100%|██████████| 782/782 [00:36<00:00, 21.16it/s]\n",
            " 56%|█████▌    | 28/50 [16:58<13:32, 36.94s/it]"
          ]
        },
        {
          "name": "stdout",
          "output_type": "stream",
          "text": [
            "\n",
            "Epoch 28 Loss: 0.04833252927112153\n"
          ]
        },
        {
          "name": "stderr",
          "output_type": "stream",
          "text": [
            "Epoch: 29: 100%|██████████| 782/782 [00:37<00:00, 21.10it/s]\n",
            " 58%|█████▊    | 29/50 [17:35<12:56, 36.98s/it]"
          ]
        },
        {
          "name": "stdout",
          "output_type": "stream",
          "text": [
            "\n",
            "Epoch 29 Loss: 0.04818239439840969\n"
          ]
        },
        {
          "name": "stderr",
          "output_type": "stream",
          "text": [
            "Epoch: 30: 100%|██████████| 782/782 [00:36<00:00, 21.53it/s]\n",
            " 60%|██████    | 30/50 [18:11<12:15, 36.78s/it]"
          ]
        },
        {
          "name": "stdout",
          "output_type": "stream",
          "text": [
            "\n",
            "Epoch 30 Loss: 0.04806134360544669\n"
          ]
        },
        {
          "name": "stderr",
          "output_type": "stream",
          "text": [
            "Epoch: 31: 100%|██████████| 782/782 [00:36<00:00, 21.51it/s]\n",
            " 62%|██████▏   | 31/50 [18:47<11:36, 36.65s/it]"
          ]
        },
        {
          "name": "stdout",
          "output_type": "stream",
          "text": [
            "\n",
            "Epoch 31 Loss: 0.047885773674873136\n"
          ]
        },
        {
          "name": "stderr",
          "output_type": "stream",
          "text": [
            "Epoch: 32: 100%|██████████| 782/782 [00:36<00:00, 21.45it/s]\n",
            " 64%|██████▍   | 32/50 [19:24<10:58, 36.59s/it]"
          ]
        },
        {
          "name": "stdout",
          "output_type": "stream",
          "text": [
            "\n",
            "Epoch 32 Loss: 0.04773800279421117\n"
          ]
        },
        {
          "name": "stderr",
          "output_type": "stream",
          "text": [
            "Epoch: 33: 100%|██████████| 782/782 [00:36<00:00, 21.41it/s]\n",
            " 66%|██████▌   | 33/50 [20:00<10:21, 36.57s/it]"
          ]
        },
        {
          "name": "stdout",
          "output_type": "stream",
          "text": [
            "\n",
            "Epoch 33 Loss: 0.04769396504191944\n"
          ]
        },
        {
          "name": "stderr",
          "output_type": "stream",
          "text": [
            "Epoch: 34: 100%|██████████| 782/782 [00:36<00:00, 21.42it/s]\n",
            " 68%|██████▊   | 34/50 [20:37<09:44, 36.56s/it]"
          ]
        },
        {
          "name": "stdout",
          "output_type": "stream",
          "text": [
            "\n",
            "Epoch 34 Loss: 0.0475140891140303\n"
          ]
        },
        {
          "name": "stderr",
          "output_type": "stream",
          "text": [
            "Epoch: 35: 100%|██████████| 782/782 [00:36<00:00, 21.41it/s]\n",
            " 70%|███████   | 35/50 [21:13<09:08, 36.55s/it]"
          ]
        },
        {
          "name": "stdout",
          "output_type": "stream",
          "text": [
            "\n",
            "Epoch 35 Loss: 0.04742100720515337\n"
          ]
        },
        {
          "name": "stderr",
          "output_type": "stream",
          "text": [
            "Epoch: 36: 100%|██████████| 782/782 [00:36<00:00, 21.34it/s]\n",
            " 72%|███████▏  | 36/50 [21:50<08:32, 36.57s/it]"
          ]
        },
        {
          "name": "stdout",
          "output_type": "stream",
          "text": [
            "\n",
            "Epoch 36 Loss: 0.04731859965607181\n"
          ]
        },
        {
          "name": "stderr",
          "output_type": "stream",
          "text": [
            "Epoch: 37: 100%|██████████| 782/782 [00:36<00:00, 21.52it/s]\n",
            " 74%|███████▍  | 37/50 [22:26<07:54, 36.51s/it]"
          ]
        },
        {
          "name": "stdout",
          "output_type": "stream",
          "text": [
            "\n",
            "Epoch 37 Loss: 0.0471760962453797\n"
          ]
        },
        {
          "name": "stderr",
          "output_type": "stream",
          "text": [
            "Epoch: 38: 100%|██████████| 782/782 [00:36<00:00, 21.29it/s]\n",
            " 76%|███████▌  | 38/50 [23:03<07:18, 36.57s/it]"
          ]
        },
        {
          "name": "stdout",
          "output_type": "stream",
          "text": [
            "\n",
            "Epoch 38 Loss: 0.04709097892141251\n"
          ]
        },
        {
          "name": "stderr",
          "output_type": "stream",
          "text": [
            "Epoch: 39: 100%|██████████| 782/782 [00:37<00:00, 20.70it/s]\n",
            " 78%|███████▊  | 39/50 [23:41<06:46, 36.93s/it]"
          ]
        },
        {
          "name": "stdout",
          "output_type": "stream",
          "text": [
            "\n",
            "Epoch 39 Loss: 0.04701415996741303\n"
          ]
        },
        {
          "name": "stderr",
          "output_type": "stream",
          "text": [
            "Epoch: 40: 100%|██████████| 782/782 [00:37<00:00, 20.71it/s]\n",
            " 80%|████████  | 40/50 [24:19<06:11, 37.18s/it]"
          ]
        },
        {
          "name": "stdout",
          "output_type": "stream",
          "text": [
            "\n",
            "Epoch 40 Loss: 0.04688846078865668\n"
          ]
        },
        {
          "name": "stderr",
          "output_type": "stream",
          "text": [
            "Epoch: 41: 100%|██████████| 782/782 [00:37<00:00, 20.93it/s]\n",
            " 82%|████████▏ | 41/50 [24:56<05:35, 37.23s/it]"
          ]
        },
        {
          "name": "stdout",
          "output_type": "stream",
          "text": [
            "\n",
            "Epoch 41 Loss: 0.04682490951322076\n"
          ]
        },
        {
          "name": "stderr",
          "output_type": "stream",
          "text": [
            "Epoch: 42: 100%|██████████| 782/782 [00:37<00:00, 20.83it/s]\n",
            " 84%|████████▍ | 42/50 [25:33<04:58, 37.33s/it]"
          ]
        },
        {
          "name": "stdout",
          "output_type": "stream",
          "text": [
            "\n",
            "Epoch 42 Loss: 0.04678653272540521\n"
          ]
        },
        {
          "name": "stderr",
          "output_type": "stream",
          "text": [
            "Epoch: 43: 100%|██████████| 782/782 [00:37<00:00, 20.80it/s]\n",
            " 86%|████████▌ | 43/50 [26:11<04:21, 37.41s/it]"
          ]
        },
        {
          "name": "stdout",
          "output_type": "stream",
          "text": [
            "\n",
            "Epoch 43 Loss: 0.04661153469834944\n"
          ]
        },
        {
          "name": "stderr",
          "output_type": "stream",
          "text": [
            "Epoch: 44: 100%|██████████| 782/782 [00:37<00:00, 20.91it/s]\n",
            " 88%|████████▊ | 44/50 [26:48<03:44, 37.40s/it]"
          ]
        },
        {
          "name": "stdout",
          "output_type": "stream",
          "text": [
            "\n",
            "Epoch 44 Loss: 0.0465638831095851\n"
          ]
        },
        {
          "name": "stderr",
          "output_type": "stream",
          "text": [
            "Epoch: 45: 100%|██████████| 782/782 [00:38<00:00, 20.45it/s]\n",
            " 90%|█████████ | 45/50 [27:27<03:08, 37.66s/it]"
          ]
        },
        {
          "name": "stdout",
          "output_type": "stream",
          "text": [
            "\n",
            "Epoch 45 Loss: 0.046500528083585416\n"
          ]
        },
        {
          "name": "stderr",
          "output_type": "stream",
          "text": [
            "Epoch: 46: 100%|██████████| 782/782 [00:38<00:00, 20.51it/s]\n",
            " 92%|█████████▏| 46/50 [28:05<02:31, 37.80s/it]"
          ]
        },
        {
          "name": "stdout",
          "output_type": "stream",
          "text": [
            "\n",
            "Epoch 46 Loss: 0.0464030485886061\n"
          ]
        },
        {
          "name": "stderr",
          "output_type": "stream",
          "text": [
            "Epoch: 47: 100%|██████████| 782/782 [00:38<00:00, 20.27it/s]\n",
            " 94%|█████████▍| 47/50 [28:43<01:54, 38.04s/it]"
          ]
        },
        {
          "name": "stdout",
          "output_type": "stream",
          "text": [
            "\n",
            "Epoch 47 Loss: 0.04634075769035103\n"
          ]
        },
        {
          "name": "stderr",
          "output_type": "stream",
          "text": [
            "Epoch: 48: 100%|██████████| 782/782 [00:39<00:00, 19.93it/s]\n",
            " 96%|█████████▌| 48/50 [29:23<01:16, 38.40s/it]"
          ]
        },
        {
          "name": "stdout",
          "output_type": "stream",
          "text": [
            "\n",
            "Epoch 48 Loss: 0.04627055511869433\n"
          ]
        },
        {
          "name": "stderr",
          "output_type": "stream",
          "text": [
            "Epoch: 49: 100%|██████████| 782/782 [00:37<00:00, 20.97it/s]\n",
            " 98%|█████████▊| 49/50 [30:00<00:38, 38.07s/it]"
          ]
        },
        {
          "name": "stdout",
          "output_type": "stream",
          "text": [
            "\n",
            "Epoch 49 Loss: 0.046179921402002846\n"
          ]
        },
        {
          "name": "stderr",
          "output_type": "stream",
          "text": [
            "Epoch: 50: 100%|██████████| 782/782 [00:38<00:00, 20.31it/s]\n",
            "100%|██████████| 50/50 [30:38<00:00, 36.78s/it]"
          ]
        },
        {
          "name": "stdout",
          "output_type": "stream",
          "text": [
            "\n",
            "Epoch 50 Loss: 0.046146986453467626\n",
            "Training is finished!\n"
          ]
        },
        {
          "name": "stderr",
          "output_type": "stream",
          "text": [
            "\n"
          ]
        }
      ],
      "source": [
        "seed_everything(464)\n",
        "model_conv = MnistAutoencoderConv() ## Uncomment when the model is implemented\n",
        "if device.type == 'cuda':\n",
        "    model_conv.cuda()\n",
        "loss_func = nn.MSELoss()\n",
        "optimizer = optim.Adam(model_conv.parameters(), lr=2e-4)\n",
        "train_model(model_conv, train_dataloader, optimizer, loss_func, 50)"
      ]
    },
    {
      "cell_type": "code",
      "execution_count": 22,
      "metadata": {
        "id": "s-rZ2v5MKTDb"
      },
      "outputs": [
        {
          "data": {
            "image/png": "[encoded data removed]",
            "text/plain": [
              "<Figure size 640x480 with 1 Axes>"
            ]
          },
          "metadata": {},
          "output_type": "display_data"
        }
      ],
      "source": [
        "plt.plot(range(len(iter_losses)), iter_losses, color=\"tab:red\", linewidth=3)\n",
        "plt.xlabel(\"Iteration\")\n",
        "plt.ylabel(\"Loss\")\n",
        "plt.title(\"Training Loss per Iteration\")\n",
        "plt.show()"
      ]
    },
    {
      "cell_type": "code",
      "execution_count": 23,
      "metadata": {
        "id": "MON6q-nEKTkj"
      },
      "outputs": [
        {
          "data": {
            "image/png": "[encoded data removed]",
            "text/plain": [
              "<Figure size 640x480 with 1 Axes>"
            ]
          },
          "metadata": {},
          "output_type": "display_data"
        }
      ],
      "source": [
        "plt.plot(range(len(epoch_losses)), epoch_losses, color=\"tab:red\", linewidth=3)\n",
        "plt.xlabel(\"Epoch\")\n",
        "plt.ylabel(\"Loss\")\n",
        "plt.title(\"Training Loss per Epoch\")\n",
        "plt.show()"
      ]
    },
    {
      "cell_type": "code",
      "execution_count": 24,
      "metadata": {
        "id": "i7ITG7WTKYl0"
      },
      "outputs": [
        {
          "name": "stderr",
          "output_type": "stream",
          "text": [
            "100%|██████████| 98/98 [00:07<00:00, 12.43it/s]\n"
          ]
        },
        {
          "data": {
            "text/plain": [
              "0.04572483148349791"
            ]
          },
          "execution_count": 24,
          "metadata": {},
          "output_type": "execute_result"
        }
      ],
      "source": [
        "evaluate_model(model_conv, test_dataloader)"
      ]
    },
    {
      "cell_type": "code",
      "execution_count": 25,
      "metadata": {
        "id": "IgiD1WG-ZRgf"
      },
      "outputs": [
        {
          "data": {
            "image/png": "[encoded data removed]",
            "text/plain": [
              "<Figure size 640x480 with 1 Axes>"
            ]
          },
          "metadata": {},
          "output_type": "display_data"
        }
      ],
      "source": [
        "visualize_inpainting(model_conv, test_dataset) ## Uncomment when the model is trained"
      ]
    },
    {
      "cell_type": "markdown",
      "metadata": {
        "id": "9yeD6vfptixK"
      },
      "source": [
        "### **Discussion [10 Points]**"
      ]
    },
    {
      "cell_type": "markdown",
      "metadata": {
        "id": "CEgMTG1QtmtR"
      },
      "source": [
        "Discuss the results that you obtained after training the models. Compare the inpainting performances by the visualizations and the accuracy metrics. You can write your answer in the below cell."
      ]
    },
    {
      "attachments": {},
      "cell_type": "markdown",
      "metadata": {
        "id": "ByohpqIyuU3o"
      },
      "source": [
        "I believe that for both of the models, I was successfully able to train, use, and evaluate them. For the training process, as can be seen in the above outputs and plots, the training loss decreased with every iteration. However, I believe that the loss are not yet at point of convergence. If I could modify some of the hyperparameters such as the learning rate, batch size, or increase the epoch; I maybe could have achieved a better training loss. But this could also be problematic as I could have overfitted the model (for example if I were to increse the epoch), hence, I would chose some portion of the training set as validation set, then observe performances of different combinations of parameters in order to come up with the ideal model (I would basically do hyperparameter tuning).\n",
        "\n",
        "But overall, I think both of these models are great as they give around 0.04 (FC model) and 0.045 (CNN model) MSE loss when they are evaluated on the test data. This can be observed on the visualization of the final models as well. I think both models do a great job in filling the missing parts of the digits. For most of the cases, they seem to be filling the missing part in a way that the total picture represents the correct digit.\n",
        "\n",
        "Looking more deeply at the visualizations though, the CNN model seemed to perfom better on one or two images, for example the \"red coloured 3\". The FC model filled the rest of the image as it is a 9 instead of a 3. However, I think this is just specific to that example of data and its spesific patterns, because since the FC model has a better evaluation MSE, normally one would except it to perform better.\n",
        "\n",
        "There might be several reasons why the FC model has a better final MSE loss value. As I mentioned above, the chosen parameters may have played an important role in this, but apart from those, it might be related to our dataset. Since our dataset contains simple and not so complex patterns, a FC model might be sufficient to capture the necessary information for the inpainting task. CNN models excel in tasks that involve capturing more spatial structures (and spacial structures do not play that much of a crucial role here as our images are simply digits on top of a white background) and more complex patterns, which could have been more effective if we dealt with more complex images."
      ]
    },
    {
      "cell_type": "code",
      "execution_count": null,
      "metadata": {
        "id": "gQrmrxFzugaG"
      },
      "outputs": [],
      "source": []
    }
  ],
  "metadata": {
    "accelerator": "GPU",
    "colab": {
      "gpuType": "T4",
      "provenance": []
    },
    "kernelspec": {
      "display_name": "Python 3",
      "name": "python3"
    },
    "language_info": {
      "codemirror_mode": {
        "name": "ipython",
        "version": 3
      },
      "file_extension": ".py",
      "mimetype": "text/x-python",
      "name": "python",
      "nbconvert_exporter": "python",
      "pygments_lexer": "ipython3",
      "version": "3.11.3"
    }
  },
  "nbformat": 4,
  "nbformat_minor": 0
}
